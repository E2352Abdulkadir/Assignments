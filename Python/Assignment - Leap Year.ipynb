{
 "cells": [
  {
   "cell_type": "code",
   "execution_count": 1,
   "metadata": {},
   "outputs": [
    {
     "name": "stdout",
     "output_type": "stream",
     "text": [
      "Please input a year for checking if it is leap or not: 2000\n",
      "2000  is a leap year.\n"
     ]
    }
   ],
   "source": [
    "# Find out if a given year is a \"leap\" year.\n",
    "# In the Gregorian calendar, three criteria must be taken into account to identify leap years:\n",
    "# The year must be evenly divisible by 4;\n",
    "# If the year can also be evenly divided by 100, it is not a leap year; unless...\n",
    "# The year is also evenly divisible by 400. Then it is a leap year.\n",
    "# According to these rules, the years 2000 and 2400 are leap years, while 1800, 1900, 2100, 2200, 2300, and 2500 are not the leap years.\n",
    "# Write a Python program that prints such as \"2020 is a leap year\" if the given year by the user is a leap year, prints such as \"2019 is not a leap year\" otherwise.\n",
    "# 4 e bölünebilecek, 100 e bölünemeyecek ama 400 e bölünebilenler istisna..\n",
    "# method1:\n",
    "\n",
    "check_year = int(input(\"Please input a year for checking if it is leap or not: \"))\n",
    "if (check_year % 4 == 0) and (not (check_year % 100 == 0) or  (check_year % 400 == 0)):\n",
    "    print(check_year, \" is a leap year.\")\n",
    "else:\n",
    "    print(check_year, \" is not a leap year!\")"
   ]
  },
  {
   "cell_type": "code",
   "execution_count": 3,
   "metadata": {},
   "outputs": [
    {
     "name": "stdout",
     "output_type": "stream",
     "text": [
      "dört rakamli bir yil giriniz: 2100\n",
      "False\n"
     ]
    }
   ],
   "source": [
    "# method2:\n",
    "year = int(input(\"dört rakamli bir yil giriniz: \"))\n",
    "leap = ((year % 4 == 0) and (year % 100 != 0)) or (year % 400 == 0)\n",
    "\n",
    "# 4 e bölünebilecek, 100 e bölünemeyecek ama 400 e bölünebilenler istisna..\n",
    "\n",
    "print(leap)"
   ]
  },
  {
   "cell_type": "code",
   "execution_count": 4,
   "metadata": {},
   "outputs": [
    {
     "name": "stdout",
     "output_type": "stream",
     "text": [
      "dört rakamli bir yil giriniz: 2100\n",
      "\n",
      "2100 is not a leap year\n"
     ]
    }
   ],
   "source": [
    "#3\n",
    "#2400 is a leap year\n",
    "#2100 is not a leap year\n",
    "\n",
    "year = int(input(\"dört rakamli bir yil giriniz: \"))\n",
    "leap = ((year % 4 == 0) and (year % 100 != 0)) or (year % 400 == 0)\n",
    "\n",
    "print(leap * f\"{year} is a leap year\")\n",
    "print((not leap) * f\"{year} is not a leap year\")"
   ]
  },
  {
   "cell_type": "code",
   "execution_count": null,
   "metadata": {},
   "outputs": [],
   "source": []
  }
 ],
 "metadata": {
  "kernelspec": {
   "display_name": "Python 3",
   "language": "python",
   "name": "python3"
  },
  "language_info": {
   "codemirror_mode": {
    "name": "ipython",
    "version": 3
   },
   "file_extension": ".py",
   "mimetype": "text/x-python",
   "name": "python",
   "nbconvert_exporter": "python",
   "pygments_lexer": "ipython3",
   "version": "3.7.6"
  }
 },
 "nbformat": 4,
 "nbformat_minor": 4
}
